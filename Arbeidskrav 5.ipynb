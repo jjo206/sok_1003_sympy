{
 "cells": [
  {
   "cell_type": "code",
   "execution_count": 3,
   "id": "285d105e-9b99-408a-a3fc-c54f304a66de",
   "metadata": {},
   "outputs": [],
   "source": [
    "#Oppgave 15,1 a)\n",
    "import sympy as sp\n",
    "x,y=sp.symbols('x y')"
   ]
  },
  {
   "cell_type": "code",
   "execution_count": 20,
   "id": "1ec5d967-7dbc-4ef1-a696-3bfa45f5262d",
   "metadata": {},
   "outputs": [
    {
     "data": {
      "text/latex": [
       "$\\displaystyle 2 x + 4 y = 6$"
      ],
      "text/plain": [
       "Eq(2*x + 4*y, 6)"
      ]
     },
     "execution_count": 20,
     "metadata": {},
     "output_type": "execute_result"
    }
   ],
   "source": [
    "eq1=sp.Eq(2*x+4*y,6)\n",
    "eq1"
   ]
  },
  {
   "cell_type": "code",
   "execution_count": 10,
   "id": "00460b53-90b9-4a4b-9bea-e33665ae9f30",
   "metadata": {},
   "outputs": [
    {
     "data": {
      "text/latex": [
       "$\\displaystyle - 2 x + y = 4$"
      ],
      "text/plain": [
       "Eq(-2*x + y, 4)"
      ]
     },
     "execution_count": 10,
     "metadata": {},
     "output_type": "execute_result"
    }
   ],
   "source": [
    "eq2=sp.Eq(-2*x + y,4)\n",
    "eq2"
   ]
  },
  {
   "cell_type": "code",
   "execution_count": 4,
   "id": "fb0a9aa8-d54f-453f-9498-273cc9da840e",
   "metadata": {},
   "outputs": [
    {
     "ename": "NameError",
     "evalue": "name 'eq1' is not defined",
     "output_type": "error",
     "traceback": [
      "\u001b[0;31m---------------------------------------------------------------------------\u001b[0m",
      "\u001b[0;31mNameError\u001b[0m                                 Traceback (most recent call last)",
      "\u001b[0;32m/tmp/ipykernel_93883/4184573176.py\u001b[0m in \u001b[0;36m<module>\u001b[0;34m\u001b[0m\n\u001b[1;32m      1\u001b[0m \u001b[0;32mfrom\u001b[0m \u001b[0msympy\u001b[0m\u001b[0;34m.\u001b[0m\u001b[0msolvers\u001b[0m \u001b[0;32mimport\u001b[0m \u001b[0msolve\u001b[0m\u001b[0;34m\u001b[0m\u001b[0;34m\u001b[0m\u001b[0m\n\u001b[0;32m----> 2\u001b[0;31m \u001b[0msol\u001b[0m\u001b[0;34m=\u001b[0m\u001b[0msolve\u001b[0m\u001b[0;34m(\u001b[0m\u001b[0;34m[\u001b[0m\u001b[0meq1\u001b[0m\u001b[0;34m,\u001b[0m\u001b[0meq2\u001b[0m\u001b[0;34m]\u001b[0m\u001b[0;34m,\u001b[0m\u001b[0;34m[\u001b[0m\u001b[0mx\u001b[0m\u001b[0;34m,\u001b[0m\u001b[0my\u001b[0m\u001b[0;34m]\u001b[0m\u001b[0;34m)\u001b[0m\u001b[0;34m\u001b[0m\u001b[0;34m\u001b[0m\u001b[0m\n\u001b[0m\u001b[1;32m      3\u001b[0m \u001b[0msol\u001b[0m\u001b[0;34m\u001b[0m\u001b[0;34m\u001b[0m\u001b[0m\n",
      "\u001b[0;31mNameError\u001b[0m: name 'eq1' is not defined"
     ]
    }
   ],
   "source": [
    "from sympy.solvers import solve\n",
    "sol=solve([eq1,eq2],[x,y])\n",
    "sol"
   ]
  },
  {
   "cell_type": "code",
   "execution_count": 16,
   "id": "5861e921-9498-4691-a011-ff45a5266fe0",
   "metadata": {},
   "outputs": [
    {
     "data": {
      "text/latex": [
       "$\\displaystyle \\text{True}$"
      ],
      "text/plain": [
       "True"
      ]
     },
     "execution_count": 16,
     "metadata": {},
     "output_type": "execute_result"
    }
   ],
   "source": [
    "eq2.subs(sol)"
   ]
  },
  {
   "cell_type": "code",
   "execution_count": 17,
   "id": "158cdd55-cde9-4fbb-b872-ca3835c7e8d2",
   "metadata": {},
   "outputs": [
    {
     "data": {
      "text/latex": [
       "$\\displaystyle \\text{True}$"
      ],
      "text/plain": [
       "True"
      ]
     },
     "execution_count": 17,
     "metadata": {},
     "output_type": "execute_result"
    }
   ],
   "source": [
    "eq2.subs(sol)"
   ]
  },
  {
   "cell_type": "code",
   "execution_count": 22,
   "id": "9126813c-0f10-4f0a-934e-9f9e0468c6eb",
   "metadata": {},
   "outputs": [
    {
     "data": {
      "text/latex": [
       "$\\displaystyle 2 x - y = -1$"
      ],
      "text/plain": [
       "Eq(2*x - y, -1)"
      ]
     },
     "execution_count": 22,
     "metadata": {},
     "output_type": "execute_result"
    }
   ],
   "source": [
    "#Oppgave 15,1 b)\n",
    "eq3=sp.Eq(2*x-y,-1)\n",
    "eq3"
   ]
  },
  {
   "cell_type": "code",
   "execution_count": 23,
   "id": "1eb0c6e3-08f3-4552-9a19-ad4f96fe2ffe",
   "metadata": {},
   "outputs": [
    {
     "data": {
      "text/latex": [
       "$\\displaystyle x^{2} + x - y = 1$"
      ],
      "text/plain": [
       "Eq(x**2 + x - y, 1)"
      ]
     },
     "execution_count": 23,
     "metadata": {},
     "output_type": "execute_result"
    }
   ],
   "source": [
    "eq4=sp.Eq(x**2+x-y,1)\n",
    "eq4"
   ]
  },
  {
   "cell_type": "code",
   "execution_count": 26,
   "id": "bd9e2d4c-1983-45e0-b6c3-ffa5096dec61",
   "metadata": {},
   "outputs": [
    {
     "data": {
      "text/plain": [
       "[(-1, -1), (2, 5)]"
      ]
     },
     "execution_count": 26,
     "metadata": {},
     "output_type": "execute_result"
    }
   ],
   "source": [
    "sol2=solve([eq3,eq4],[x,y])\n",
    "sol2"
   ]
  },
  {
   "cell_type": "code",
   "execution_count": 30,
   "id": "947f7c52-c9b1-4d73-89b2-75bde24ecc1a",
   "metadata": {},
   "outputs": [
    {
     "data": {
      "text/latex": [
       "$\\displaystyle 3 x - 12 = - 6 y$"
      ],
      "text/plain": [
       "Eq(3*x - 12, -6*y)"
      ]
     },
     "execution_count": 30,
     "metadata": {},
     "output_type": "execute_result"
    }
   ],
   "source": [
    "#Oppgave 15,2 a)\n",
    "eq5=sp.Eq(3*x-12,-6*y)\n",
    "eq5"
   ]
  },
  {
   "cell_type": "code",
   "execution_count": 31,
   "id": "e9cc3817-3a24-40e2-842e-ba26db3495b5",
   "metadata": {},
   "outputs": [
    {
     "data": {
      "text/latex": [
       "$\\displaystyle 4 x - 8 y = 16$"
      ],
      "text/plain": [
       "Eq(4*x - 8*y, 16)"
      ]
     },
     "execution_count": 31,
     "metadata": {},
     "output_type": "execute_result"
    }
   ],
   "source": [
    "eq6=sp.Eq(4*x-8*y,16)\n",
    "eq6"
   ]
  },
  {
   "cell_type": "code",
   "execution_count": 32,
   "id": "5dea3c76-d06a-41b6-8f6e-ac9453f70111",
   "metadata": {},
   "outputs": [
    {
     "data": {
      "text/plain": [
       "{x: 4, y: 0}"
      ]
     },
     "execution_count": 32,
     "metadata": {},
     "output_type": "execute_result"
    }
   ],
   "source": [
    "sol3=solve([eq5,eq6],[x,y])\n",
    "sol3"
   ]
  },
  {
   "cell_type": "code",
   "execution_count": 33,
   "id": "9dafbf1e-9efe-4564-8180-0ee8675c19b2",
   "metadata": {},
   "outputs": [
    {
     "data": {
      "text/latex": [
       "$\\displaystyle x^{2} + 4 x - 3 = 3 y$"
      ],
      "text/plain": [
       "Eq(x**2 + 4*x - 3, 3*y)"
      ]
     },
     "execution_count": 33,
     "metadata": {},
     "output_type": "execute_result"
    }
   ],
   "source": [
    "#Oppgave 15,2 b)\n",
    "eq7=sp.Eq(x**2+4*x-3,3*y)\n",
    "eq7"
   ]
  },
  {
   "cell_type": "code",
   "execution_count": 35,
   "id": "696dce9c-d850-4d04-b1d7-366b87970c38",
   "metadata": {},
   "outputs": [
    {
     "data": {
      "text/latex": [
       "$\\displaystyle 2 y = 8 - x$"
      ],
      "text/plain": [
       "Eq(2*y, 8 - x)"
      ]
     },
     "execution_count": 35,
     "metadata": {},
     "output_type": "execute_result"
    }
   ],
   "source": [
    "eq8=sp.Eq(2*y,8-x)\n",
    "eq8"
   ]
  },
  {
   "cell_type": "code",
   "execution_count": 36,
   "id": "98c949ba-751a-4c8f-8f28-59f16f46dd92",
   "metadata": {},
   "outputs": [
    {
     "data": {
      "text/plain": [
       "[(-15/2, 31/4), (2, 3)]"
      ]
     },
     "execution_count": 36,
     "metadata": {},
     "output_type": "execute_result"
    }
   ],
   "source": [
    "sol4=solve([eq7,eq8],[x,y])\n",
    "sol4"
   ]
  },
  {
   "cell_type": "code",
   "execution_count": 44,
   "id": "d09ebe45-fe8e-4404-8be9-96c7a41b4379",
   "metadata": {},
   "outputs": [
    {
     "data": {
      "text/latex": [
       "$\\displaystyle 4 x + 2 y = 12$"
      ],
      "text/plain": [
       "Eq(4*x + 2*y, 12)"
      ]
     },
     "execution_count": 44,
     "metadata": {},
     "output_type": "execute_result"
    }
   ],
   "source": [
    "#Oppgave 16, 1 a)\n",
    "eq9=sp.Eq(4*x+2*y,12)\n",
    "eq9"
   ]
  },
  {
   "cell_type": "code",
   "execution_count": 45,
   "id": "d9c23628-60b8-4a74-8314-9cce491c6b03",
   "metadata": {},
   "outputs": [
    {
     "data": {
      "text/latex": [
       "$\\displaystyle 6 x - 2 y = 8$"
      ],
      "text/plain": [
       "Eq(6*x - 2*y, 8)"
      ]
     },
     "execution_count": 45,
     "metadata": {},
     "output_type": "execute_result"
    }
   ],
   "source": [
    "eq10=sp.Eq(6*x - 2*y, 8)\n",
    "eq10"
   ]
  },
  {
   "cell_type": "code",
   "execution_count": 46,
   "id": "54dd7879-0e40-4ac7-b13c-630bada91b52",
   "metadata": {},
   "outputs": [
    {
     "data": {
      "text/plain": [
       "{x: 2, y: 2}"
      ]
     },
     "execution_count": 46,
     "metadata": {},
     "output_type": "execute_result"
    }
   ],
   "source": [
    "sol5=solve([eq9,eq10],[x,y])\n",
    "sol5"
   ]
  },
  {
   "cell_type": "code",
   "execution_count": 48,
   "id": "65e97e8b-87ec-4a22-b290-6b6e3d0f9409",
   "metadata": {},
   "outputs": [
    {
     "data": {
      "text/latex": [
       "$\\displaystyle 2 x + y^{2} = 25$"
      ],
      "text/plain": [
       "Eq(2*x + y**2, 25)"
      ]
     },
     "execution_count": 48,
     "metadata": {},
     "output_type": "execute_result"
    }
   ],
   "source": [
    "#Oppgave 16,1 b)\n",
    "eq11=sp.Eq(2*x+y**2, 25)\n",
    "eq11"
   ]
  },
  {
   "cell_type": "code",
   "execution_count": 50,
   "id": "c8831189-edcf-47b8-9b79-260a2038db8c",
   "metadata": {},
   "outputs": [
    {
     "data": {
      "text/latex": [
       "$\\displaystyle x - 2 y = 10$"
      ],
      "text/plain": [
       "Eq(x - 2*y, 10)"
      ]
     },
     "execution_count": 50,
     "metadata": {},
     "output_type": "execute_result"
    }
   ],
   "source": [
    "eq12=sp.Eq(x-2*y, 10)\n",
    "eq12"
   ]
  },
  {
   "cell_type": "code",
   "execution_count": 51,
   "id": "60915bb2-0afc-4d30-8680-d24e3aa72d69",
   "metadata": {},
   "outputs": [
    {
     "data": {
      "text/plain": [
       "[(0, -5), (12, 1)]"
      ]
     },
     "execution_count": 51,
     "metadata": {},
     "output_type": "execute_result"
    }
   ],
   "source": [
    "sol6=solve([eq11,eq12],[x,y])\n",
    "sol6"
   ]
  },
  {
   "cell_type": "code",
   "execution_count": 52,
   "id": "e83365c9-7d84-4ce5-b3e5-b6ed5899bc9c",
   "metadata": {},
   "outputs": [
    {
     "data": {
      "text/latex": [
       "$\\displaystyle 4 x - 4 y = 8$"
      ],
      "text/plain": [
       "Eq(4*x - 4*y, 8)"
      ]
     },
     "execution_count": 52,
     "metadata": {},
     "output_type": "execute_result"
    }
   ],
   "source": [
    "#Oppgave 16,2 a)\n",
    "eq13=sp.Eq(4*x-4*y, 8)\n",
    "eq13"
   ]
  },
  {
   "cell_type": "code",
   "execution_count": 53,
   "id": "0fa3a4f9-9726-49ec-913e-3141218547d8",
   "metadata": {},
   "outputs": [
    {
     "data": {
      "text/latex": [
       "$\\displaystyle 9 x - 5 y = 26$"
      ],
      "text/plain": [
       "Eq(9*x - 5*y, 26)"
      ]
     },
     "execution_count": 53,
     "metadata": {},
     "output_type": "execute_result"
    }
   ],
   "source": [
    "eq14=sp.Eq(9*x-5*y, 26)\n",
    "eq14"
   ]
  },
  {
   "cell_type": "code",
   "execution_count": 54,
   "id": "85ffdc93-d021-4a68-b860-692706c8b4b0",
   "metadata": {},
   "outputs": [
    {
     "data": {
      "text/plain": [
       "{x: 4, y: 2}"
      ]
     },
     "execution_count": 54,
     "metadata": {},
     "output_type": "execute_result"
    }
   ],
   "source": [
    "sol7=solve([eq13,eq14],[x,y])\n",
    "sol7"
   ]
  },
  {
   "cell_type": "code",
   "execution_count": 55,
   "id": "d4ca18b2-6a7b-457b-a004-01fe39b5e016",
   "metadata": {},
   "outputs": [
    {
     "data": {
      "text/latex": [
       "$\\displaystyle x + 2 y^{2} = 15$"
      ],
      "text/plain": [
       "Eq(x + 2*y**2, 15)"
      ]
     },
     "execution_count": 55,
     "metadata": {},
     "output_type": "execute_result"
    }
   ],
   "source": [
    "#Oppgave 16,2 b)\n",
    "eq15=sp.Eq(x+ 2*y**2, 15)\n",
    "eq15"
   ]
  },
  {
   "cell_type": "code",
   "execution_count": 57,
   "id": "a4c48ef6-b9c0-4683-82c5-7ba5c8baf1a7",
   "metadata": {},
   "outputs": [
    {
     "data": {
      "text/latex": [
       "$\\displaystyle x^{2} - 4 y^{2} = 33$"
      ],
      "text/plain": [
       "Eq(x**2 - 4*y**2, 33)"
      ]
     },
     "execution_count": 57,
     "metadata": {},
     "output_type": "execute_result"
    }
   ],
   "source": [
    "eq16=sp.Eq(x**2-4*y**2, 33)\n",
    "eq16"
   ]
  },
  {
   "cell_type": "code",
   "execution_count": 58,
   "id": "14efc4e5-1e00-40f1-ac5a-a251ce95b56b",
   "metadata": {},
   "outputs": [
    {
     "data": {
      "text/plain": [
       "[(-9, -2*sqrt(3)), (-9, 2*sqrt(3)), (7, -2), (7, 2)]"
      ]
     },
     "execution_count": 58,
     "metadata": {},
     "output_type": "execute_result"
    }
   ],
   "source": [
    "sol8=solve([eq15,eq16],[x,y])\n",
    "sol8"
   ]
  },
  {
   "cell_type": "code",
   "execution_count": 5,
   "id": "768a9142-c447-46fe-9771-c3825f13eb95",
   "metadata": {},
   "outputs": [
    {
     "data": {
      "text/latex": [
       "$\\displaystyle x y^{2} - x = 0$"
      ],
      "text/plain": [
       "Eq(x*y**2 - x, 0)"
      ]
     },
     "execution_count": 5,
     "metadata": {},
     "output_type": "execute_result"
    }
   ],
   "source": [
    "#Oppgave 17,1 a)\n",
    "eq17=sp.Eq(x*y**2-x, 0)\n",
    "eq17"
   ]
  },
  {
   "cell_type": "code",
   "execution_count": 6,
   "id": "d514a69d-6b36-462b-bb2f-869fbfd15900",
   "metadata": {},
   "outputs": [
    {
     "data": {
      "text/latex": [
       "$\\displaystyle x + y^{2} = 16$"
      ],
      "text/plain": [
       "Eq(x + y**2, 16)"
      ]
     },
     "execution_count": 6,
     "metadata": {},
     "output_type": "execute_result"
    }
   ],
   "source": [
    "eq18=sp.Eq(x+y**2, 16)\n",
    "eq18"
   ]
  },
  {
   "cell_type": "code",
   "execution_count": 7,
   "id": "04f5bf9b-dfec-4d54-91d2-acb9a0a5318d",
   "metadata": {},
   "outputs": [
    {
     "data": {
      "text/plain": [
       "[(0, -4), (0, 4), (15, -1), (15, 1)]"
      ]
     },
     "execution_count": 7,
     "metadata": {},
     "output_type": "execute_result"
    }
   ],
   "source": [
    "sol9=solve([eq17,eq18],[x,y])\n",
    "sol9"
   ]
  },
  {
   "cell_type": "code",
   "execution_count": 8,
   "id": "b2919c0b-be41-4668-b1cf-841f68f209f3",
   "metadata": {},
   "outputs": [
    {
     "data": {
      "text/latex": [
       "$\\displaystyle x^{2} + y^{2} = 100$"
      ],
      "text/plain": [
       "Eq(x**2 + y**2, 100)"
      ]
     },
     "execution_count": 8,
     "metadata": {},
     "output_type": "execute_result"
    }
   ],
   "source": [
    "#Oppgave 17,1 b)\n",
    "eq19=sp.Eq(x**2+y**2, 100)\n",
    "eq19"
   ]
  },
  {
   "cell_type": "code",
   "execution_count": 9,
   "id": "448eedc2-d97e-494c-a1b5-fb0a9360c08f",
   "metadata": {},
   "outputs": [
    {
     "data": {
      "text/latex": [
       "$\\displaystyle x^{2} y - 36 y = 0$"
      ],
      "text/plain": [
       "Eq(x**2*y - 36*y, 0)"
      ]
     },
     "execution_count": 9,
     "metadata": {},
     "output_type": "execute_result"
    }
   ],
   "source": [
    "eq20=sp.Eq(x**2*y-36*y, 0)\n",
    "eq20"
   ]
  },
  {
   "cell_type": "code",
   "execution_count": 10,
   "id": "516da240-0a77-4e27-8177-d27981753674",
   "metadata": {},
   "outputs": [
    {
     "data": {
      "text/plain": [
       "[(-10, 0), (-6, -8), (-6, 8), (6, -8), (6, 8), (10, 0)]"
      ]
     },
     "execution_count": 10,
     "metadata": {},
     "output_type": "execute_result"
    }
   ],
   "source": [
    "sol10=solve([eq19,eq20],[x,y])\n",
    "sol10"
   ]
  },
  {
   "cell_type": "code",
   "execution_count": 12,
   "id": "78e4af19-69dd-49ee-a7d5-59e2c579b7f9",
   "metadata": {},
   "outputs": [
    {
     "data": {
      "text/latex": [
       "$\\displaystyle x y^{2} - 49 x = 0$"
      ],
      "text/plain": [
       "Eq(x*y**2 - 49*x, 0)"
      ]
     },
     "execution_count": 12,
     "metadata": {},
     "output_type": "execute_result"
    }
   ],
   "source": [
    "#Oppgave 17,2 a)\n",
    "eq21=sp.Eq(x*y**2-49*x, 0)\n",
    "eq21"
   ]
  },
  {
   "cell_type": "code",
   "execution_count": 13,
   "id": "30686e37-7801-4e22-9b8d-06bb6b402114",
   "metadata": {},
   "outputs": [
    {
     "data": {
      "text/latex": [
       "$\\displaystyle x^{2} + y^{2} = 58$"
      ],
      "text/plain": [
       "Eq(x**2 + y**2, 58)"
      ]
     },
     "execution_count": 13,
     "metadata": {},
     "output_type": "execute_result"
    }
   ],
   "source": [
    "eq22=sp.Eq(x**2+y**2, 58)\n",
    "eq22"
   ]
  },
  {
   "cell_type": "code",
   "execution_count": 14,
   "id": "4fa62a0f-f3cd-4412-90cb-8b7120805882",
   "metadata": {},
   "outputs": [
    {
     "data": {
      "text/plain": [
       "[(-3, -7), (-3, 7), (0, -sqrt(58)), (0, sqrt(58)), (3, -7), (3, 7)]"
      ]
     },
     "execution_count": 14,
     "metadata": {},
     "output_type": "execute_result"
    }
   ],
   "source": [
    "sol11=solve([eq21,eq22],[x,y])\n",
    "sol11"
   ]
  },
  {
   "cell_type": "code",
   "execution_count": 21,
   "id": "3cff93c1-8d7d-4adc-97f6-71ebc0993739",
   "metadata": {},
   "outputs": [
    {
     "data": {
      "text/latex": [
       "$\\displaystyle x^{2} + y^{2} = 1.25$"
      ],
      "text/plain": [
       "Eq(x**2 + y**2, 1.25)"
      ]
     },
     "execution_count": 21,
     "metadata": {},
     "output_type": "execute_result"
    }
   ],
   "source": [
    "#Oppgave 17,2 b)\n",
    "eq23=sp.Eq(x**2+y**2,5/4)\n",
    "eq23"
   ]
  },
  {
   "cell_type": "code",
   "execution_count": 25,
   "id": "46d3b155-967d-4b6a-91c4-bff06d25a69e",
   "metadata": {},
   "outputs": [
    {
     "data": {
      "text/latex": [
       "$\\displaystyle 2 x y + y = 0$"
      ],
      "text/plain": [
       "Eq(2*x*y + y, 0)"
      ]
     },
     "execution_count": 25,
     "metadata": {},
     "output_type": "execute_result"
    }
   ],
   "source": [
    "eq24=sp.Eq(2*x*y+y, 0)\n",
    "eq24"
   ]
  },
  {
   "cell_type": "code",
   "execution_count": 23,
   "id": "15642c7f-a417-49ca-9d5c-868d1c2eb856",
   "metadata": {},
   "outputs": [
    {
     "data": {
      "text/plain": [
       "[(-1.11803398874989, 0.0),\n",
       " (-0.500000000000000, -1.00000000000000),\n",
       " (-0.500000000000000, 1.00000000000000),\n",
       " (1.11803398874989, 0.0)]"
      ]
     },
     "execution_count": 23,
     "metadata": {},
     "output_type": "execute_result"
    }
   ],
   "source": [
    "sol12=solve([eq23,eq24],[x,y])\n",
    "sol12"
   ]
  },
  {
   "cell_type": "code",
   "execution_count": null,
   "id": "fb0fe94e-d0e1-485c-8ebf-0da416647301",
   "metadata": {},
   "outputs": [],
   "source": []
  }
 ],
 "metadata": {
  "kernelspec": {
   "display_name": "Python 3 (ipykernel)",
   "language": "python",
   "name": "python3"
  },
  "language_info": {
   "codemirror_mode": {
    "name": "ipython",
    "version": 3
   },
   "file_extension": ".py",
   "mimetype": "text/x-python",
   "name": "python",
   "nbconvert_exporter": "python",
   "pygments_lexer": "ipython3",
   "version": "3.9.5"
  }
 },
 "nbformat": 4,
 "nbformat_minor": 5
}
