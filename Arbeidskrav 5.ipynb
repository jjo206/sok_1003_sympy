{
 "cells": [
  {
   "cell_type": "code",
   "execution_count": 116,
   "id": "285d105e-9b99-408a-a3fc-c54f304a66de",
   "metadata": {},
   "outputs": [],
   "source": [
    "#Oppgave 15,1 a)\n",
    "import sympy as sp\n",
    "x,y=sp.symbols('x y')"
   ]
  },
  {
   "cell_type": "code",
   "execution_count": 26,
   "id": "1ec5d967-7dbc-4ef1-a696-3bfa45f5262d",
   "metadata": {},
   "outputs": [
    {
     "data": {
      "text/latex": [
       "$\\displaystyle 2 x + 4 y = 6$"
      ],
      "text/plain": [
       "Eq(2*x + 4*y, 6)"
      ]
     },
     "execution_count": 26,
     "metadata": {},
     "output_type": "execute_result"
    }
   ],
   "source": [
    "eq1=sp.Eq(2*x+4*y,6)\n",
    "eq1"
   ]
  },
  {
   "cell_type": "code",
   "execution_count": 28,
   "id": "00460b53-90b9-4a4b-9bea-e33665ae9f30",
   "metadata": {},
   "outputs": [
    {
     "data": {
      "text/latex": [
       "$\\displaystyle - 2 x + y = 4$"
      ],
      "text/plain": [
       "Eq(-2*x + y, 4)"
      ]
     },
     "execution_count": 28,
     "metadata": {},
     "output_type": "execute_result"
    }
   ],
   "source": [
    "eq2=sp.Eq(-2*x + y,4)\n",
    "eq2"
   ]
  },
  {
   "cell_type": "code",
   "execution_count": 32,
   "id": "fb0a9aa8-d54f-453f-9498-273cc9da840e",
   "metadata": {},
   "outputs": [
    {
     "data": {
      "text/plain": [
       "{x: -1, y: 2}"
      ]
     },
     "execution_count": 32,
     "metadata": {},
     "output_type": "execute_result"
    }
   ],
   "source": [
    "from sympy.solvers import solve\n",
    "sol=solve([eq1,eq2],[x,y])\n",
    "sol"
   ]
  },
  {
   "cell_type": "code",
   "execution_count": 16,
   "id": "5861e921-9498-4691-a011-ff45a5266fe0",
   "metadata": {},
   "outputs": [
    {
     "data": {
      "text/latex": [
       "$\\displaystyle \\text{True}$"
      ],
      "text/plain": [
       "True"
      ]
     },
     "execution_count": 16,
     "metadata": {},
     "output_type": "execute_result"
    }
   ],
   "source": [
    "eq2.subs(sol)"
   ]
  },
  {
   "cell_type": "code",
   "execution_count": 17,
   "id": "158cdd55-cde9-4fbb-b872-ca3835c7e8d2",
   "metadata": {},
   "outputs": [
    {
     "data": {
      "text/latex": [
       "$\\displaystyle \\text{True}$"
      ],
      "text/plain": [
       "True"
      ]
     },
     "execution_count": 17,
     "metadata": {},
     "output_type": "execute_result"
    }
   ],
   "source": [
    "eq2.subs(sol)"
   ]
  },
  {
   "cell_type": "code",
   "execution_count": 22,
   "id": "9126813c-0f10-4f0a-934e-9f9e0468c6eb",
   "metadata": {},
   "outputs": [
    {
     "data": {
      "text/latex": [
       "$\\displaystyle 2 x - y = -1$"
      ],
      "text/plain": [
       "Eq(2*x - y, -1)"
      ]
     },
     "execution_count": 22,
     "metadata": {},
     "output_type": "execute_result"
    }
   ],
   "source": [
    "#Oppgave 15,1 b)\n",
    "eq3=sp.Eq(2*x-y,-1)\n",
    "eq3"
   ]
  },
  {
   "cell_type": "code",
   "execution_count": 23,
   "id": "1eb0c6e3-08f3-4552-9a19-ad4f96fe2ffe",
   "metadata": {},
   "outputs": [
    {
     "data": {
      "text/latex": [
       "$\\displaystyle x^{2} + x - y = 1$"
      ],
      "text/plain": [
       "Eq(x**2 + x - y, 1)"
      ]
     },
     "execution_count": 23,
     "metadata": {},
     "output_type": "execute_result"
    }
   ],
   "source": [
    "eq4=sp.Eq(x**2+x-y,1)\n",
    "eq4"
   ]
  },
  {
   "cell_type": "code",
   "execution_count": 26,
   "id": "bd9e2d4c-1983-45e0-b6c3-ffa5096dec61",
   "metadata": {},
   "outputs": [
    {
     "data": {
      "text/plain": [
       "[(-1, -1), (2, 5)]"
      ]
     },
     "execution_count": 26,
     "metadata": {},
     "output_type": "execute_result"
    }
   ],
   "source": [
    "sol2=solve([eq3,eq4],[x,y])\n",
    "sol2"
   ]
  },
  {
   "cell_type": "code",
   "execution_count": 30,
   "id": "947f7c52-c9b1-4d73-89b2-75bde24ecc1a",
   "metadata": {},
   "outputs": [
    {
     "data": {
      "text/latex": [
       "$\\displaystyle 3 x - 12 = - 6 y$"
      ],
      "text/plain": [
       "Eq(3*x - 12, -6*y)"
      ]
     },
     "execution_count": 30,
     "metadata": {},
     "output_type": "execute_result"
    }
   ],
   "source": [
    "#Oppgave 15,2 a)\n",
    "eq5=sp.Eq(3*x-12,-6*y)\n",
    "eq5"
   ]
  },
  {
   "cell_type": "code",
   "execution_count": 31,
   "id": "e9cc3817-3a24-40e2-842e-ba26db3495b5",
   "metadata": {},
   "outputs": [
    {
     "data": {
      "text/latex": [
       "$\\displaystyle 4 x - 8 y = 16$"
      ],
      "text/plain": [
       "Eq(4*x - 8*y, 16)"
      ]
     },
     "execution_count": 31,
     "metadata": {},
     "output_type": "execute_result"
    }
   ],
   "source": [
    "eq6=sp.Eq(4*x-8*y,16)\n",
    "eq6"
   ]
  },
  {
   "cell_type": "code",
   "execution_count": 32,
   "id": "5dea3c76-d06a-41b6-8f6e-ac9453f70111",
   "metadata": {},
   "outputs": [
    {
     "data": {
      "text/plain": [
       "{x: 4, y: 0}"
      ]
     },
     "execution_count": 32,
     "metadata": {},
     "output_type": "execute_result"
    }
   ],
   "source": [
    "sol3=solve([eq5,eq6],[x,y])\n",
    "sol3"
   ]
  },
  {
   "cell_type": "code",
   "execution_count": 33,
   "id": "9dafbf1e-9efe-4564-8180-0ee8675c19b2",
   "metadata": {},
   "outputs": [
    {
     "data": {
      "text/latex": [
       "$\\displaystyle x^{2} + 4 x - 3 = 3 y$"
      ],
      "text/plain": [
       "Eq(x**2 + 4*x - 3, 3*y)"
      ]
     },
     "execution_count": 33,
     "metadata": {},
     "output_type": "execute_result"
    }
   ],
   "source": [
    "#Oppgave 15,2 b)\n",
    "eq7=sp.Eq(x**2+4*x-3,3*y)\n",
    "eq7"
   ]
  },
  {
   "cell_type": "code",
   "execution_count": 35,
   "id": "696dce9c-d850-4d04-b1d7-366b87970c38",
   "metadata": {},
   "outputs": [
    {
     "data": {
      "text/latex": [
       "$\\displaystyle 2 y = 8 - x$"
      ],
      "text/plain": [
       "Eq(2*y, 8 - x)"
      ]
     },
     "execution_count": 35,
     "metadata": {},
     "output_type": "execute_result"
    }
   ],
   "source": [
    "eq8=sp.Eq(2*y,8-x)\n",
    "eq8"
   ]
  },
  {
   "cell_type": "code",
   "execution_count": 36,
   "id": "98c949ba-751a-4c8f-8f28-59f16f46dd92",
   "metadata": {},
   "outputs": [
    {
     "data": {
      "text/plain": [
       "[(-15/2, 31/4), (2, 3)]"
      ]
     },
     "execution_count": 36,
     "metadata": {},
     "output_type": "execute_result"
    }
   ],
   "source": [
    "sol4=solve([eq7,eq8],[x,y])\n",
    "sol4"
   ]
  },
  {
   "cell_type": "code",
   "execution_count": 44,
   "id": "d09ebe45-fe8e-4404-8be9-96c7a41b4379",
   "metadata": {},
   "outputs": [
    {
     "data": {
      "text/latex": [
       "$\\displaystyle 4 x + 2 y = 12$"
      ],
      "text/plain": [
       "Eq(4*x + 2*y, 12)"
      ]
     },
     "execution_count": 44,
     "metadata": {},
     "output_type": "execute_result"
    }
   ],
   "source": [
    "#Oppgave 16, 1 a)\n",
    "eq9=sp.Eq(4*x+2*y,12)\n",
    "eq9"
   ]
  },
  {
   "cell_type": "code",
   "execution_count": 45,
   "id": "d9c23628-60b8-4a74-8314-9cce491c6b03",
   "metadata": {},
   "outputs": [
    {
     "data": {
      "text/latex": [
       "$\\displaystyle 6 x - 2 y = 8$"
      ],
      "text/plain": [
       "Eq(6*x - 2*y, 8)"
      ]
     },
     "execution_count": 45,
     "metadata": {},
     "output_type": "execute_result"
    }
   ],
   "source": [
    "eq10=sp.Eq(6*x - 2*y, 8)\n",
    "eq10"
   ]
  },
  {
   "cell_type": "code",
   "execution_count": 46,
   "id": "54dd7879-0e40-4ac7-b13c-630bada91b52",
   "metadata": {},
   "outputs": [
    {
     "data": {
      "text/plain": [
       "{x: 2, y: 2}"
      ]
     },
     "execution_count": 46,
     "metadata": {},
     "output_type": "execute_result"
    }
   ],
   "source": [
    "sol5=solve([eq9,eq10],[x,y])\n",
    "sol5"
   ]
  },
  {
   "cell_type": "code",
   "execution_count": 48,
   "id": "65e97e8b-87ec-4a22-b290-6b6e3d0f9409",
   "metadata": {},
   "outputs": [
    {
     "data": {
      "text/latex": [
       "$\\displaystyle 2 x + y^{2} = 25$"
      ],
      "text/plain": [
       "Eq(2*x + y**2, 25)"
      ]
     },
     "execution_count": 48,
     "metadata": {},
     "output_type": "execute_result"
    }
   ],
   "source": [
    "#Oppgave 16,1 b)\n",
    "eq11=sp.Eq(2*x+y**2, 25)\n",
    "eq11"
   ]
  },
  {
   "cell_type": "code",
   "execution_count": 50,
   "id": "c8831189-edcf-47b8-9b79-260a2038db8c",
   "metadata": {},
   "outputs": [
    {
     "data": {
      "text/latex": [
       "$\\displaystyle x - 2 y = 10$"
      ],
      "text/plain": [
       "Eq(x - 2*y, 10)"
      ]
     },
     "execution_count": 50,
     "metadata": {},
     "output_type": "execute_result"
    }
   ],
   "source": [
    "eq12=sp.Eq(x-2*y, 10)\n",
    "eq12"
   ]
  },
  {
   "cell_type": "code",
   "execution_count": 51,
   "id": "60915bb2-0afc-4d30-8680-d24e3aa72d69",
   "metadata": {},
   "outputs": [
    {
     "data": {
      "text/plain": [
       "[(0, -5), (12, 1)]"
      ]
     },
     "execution_count": 51,
     "metadata": {},
     "output_type": "execute_result"
    }
   ],
   "source": [
    "sol6=solve([eq11,eq12],[x,y])\n",
    "sol6"
   ]
  },
  {
   "cell_type": "code",
   "execution_count": 52,
   "id": "e83365c9-7d84-4ce5-b3e5-b6ed5899bc9c",
   "metadata": {},
   "outputs": [
    {
     "data": {
      "text/latex": [
       "$\\displaystyle 4 x - 4 y = 8$"
      ],
      "text/plain": [
       "Eq(4*x - 4*y, 8)"
      ]
     },
     "execution_count": 52,
     "metadata": {},
     "output_type": "execute_result"
    }
   ],
   "source": [
    "#Oppgave 16,2 a)\n",
    "eq13=sp.Eq(4*x-4*y, 8)\n",
    "eq13"
   ]
  },
  {
   "cell_type": "code",
   "execution_count": 53,
   "id": "0fa3a4f9-9726-49ec-913e-3141218547d8",
   "metadata": {},
   "outputs": [
    {
     "data": {
      "text/latex": [
       "$\\displaystyle 9 x - 5 y = 26$"
      ],
      "text/plain": [
       "Eq(9*x - 5*y, 26)"
      ]
     },
     "execution_count": 53,
     "metadata": {},
     "output_type": "execute_result"
    }
   ],
   "source": [
    "eq14=sp.Eq(9*x-5*y, 26)\n",
    "eq14"
   ]
  },
  {
   "cell_type": "code",
   "execution_count": 54,
   "id": "85ffdc93-d021-4a68-b860-692706c8b4b0",
   "metadata": {},
   "outputs": [
    {
     "data": {
      "text/plain": [
       "{x: 4, y: 2}"
      ]
     },
     "execution_count": 54,
     "metadata": {},
     "output_type": "execute_result"
    }
   ],
   "source": [
    "sol7=solve([eq13,eq14],[x,y])\n",
    "sol7"
   ]
  },
  {
   "cell_type": "code",
   "execution_count": 55,
   "id": "d4ca18b2-6a7b-457b-a004-01fe39b5e016",
   "metadata": {},
   "outputs": [
    {
     "data": {
      "text/latex": [
       "$\\displaystyle x + 2 y^{2} = 15$"
      ],
      "text/plain": [
       "Eq(x + 2*y**2, 15)"
      ]
     },
     "execution_count": 55,
     "metadata": {},
     "output_type": "execute_result"
    }
   ],
   "source": [
    "#Oppgave 16,2 b)\n",
    "eq15=sp.Eq(x+ 2*y**2, 15)\n",
    "eq15"
   ]
  },
  {
   "cell_type": "code",
   "execution_count": 57,
   "id": "a4c48ef6-b9c0-4683-82c5-7ba5c8baf1a7",
   "metadata": {},
   "outputs": [
    {
     "data": {
      "text/latex": [
       "$\\displaystyle x^{2} - 4 y^{2} = 33$"
      ],
      "text/plain": [
       "Eq(x**2 - 4*y**2, 33)"
      ]
     },
     "execution_count": 57,
     "metadata": {},
     "output_type": "execute_result"
    }
   ],
   "source": [
    "eq16=sp.Eq(x**2-4*y**2, 33)\n",
    "eq16"
   ]
  },
  {
   "cell_type": "code",
   "execution_count": 58,
   "id": "14efc4e5-1e00-40f1-ac5a-a251ce95b56b",
   "metadata": {},
   "outputs": [
    {
     "data": {
      "text/plain": [
       "[(-9, -2*sqrt(3)), (-9, 2*sqrt(3)), (7, -2), (7, 2)]"
      ]
     },
     "execution_count": 58,
     "metadata": {},
     "output_type": "execute_result"
    }
   ],
   "source": [
    "sol8=solve([eq15,eq16],[x,y])\n",
    "sol8"
   ]
  },
  {
   "cell_type": "code",
   "execution_count": 5,
   "id": "768a9142-c447-46fe-9771-c3825f13eb95",
   "metadata": {},
   "outputs": [
    {
     "data": {
      "text/latex": [
       "$\\displaystyle x y^{2} - x = 0$"
      ],
      "text/plain": [
       "Eq(x*y**2 - x, 0)"
      ]
     },
     "execution_count": 5,
     "metadata": {},
     "output_type": "execute_result"
    }
   ],
   "source": [
    "#Oppgave 17,1 a)\n",
    "eq17=sp.Eq(x*y**2-x, 0)\n",
    "eq17"
   ]
  },
  {
   "cell_type": "code",
   "execution_count": 6,
   "id": "d514a69d-6b36-462b-bb2f-869fbfd15900",
   "metadata": {},
   "outputs": [
    {
     "data": {
      "text/latex": [
       "$\\displaystyle x + y^{2} = 16$"
      ],
      "text/plain": [
       "Eq(x + y**2, 16)"
      ]
     },
     "execution_count": 6,
     "metadata": {},
     "output_type": "execute_result"
    }
   ],
   "source": [
    "eq18=sp.Eq(x+y**2, 16)\n",
    "eq18"
   ]
  },
  {
   "cell_type": "code",
   "execution_count": 7,
   "id": "04f5bf9b-dfec-4d54-91d2-acb9a0a5318d",
   "metadata": {},
   "outputs": [
    {
     "data": {
      "text/plain": [
       "[(0, -4), (0, 4), (15, -1), (15, 1)]"
      ]
     },
     "execution_count": 7,
     "metadata": {},
     "output_type": "execute_result"
    }
   ],
   "source": [
    "sol9=solve([eq17,eq18],[x,y])\n",
    "sol9"
   ]
  },
  {
   "cell_type": "code",
   "execution_count": 8,
   "id": "b2919c0b-be41-4668-b1cf-841f68f209f3",
   "metadata": {},
   "outputs": [
    {
     "data": {
      "text/latex": [
       "$\\displaystyle x^{2} + y^{2} = 100$"
      ],
      "text/plain": [
       "Eq(x**2 + y**2, 100)"
      ]
     },
     "execution_count": 8,
     "metadata": {},
     "output_type": "execute_result"
    }
   ],
   "source": [
    "#Oppgave 17,1 b)\n",
    "eq19=sp.Eq(x**2+y**2, 100)\n",
    "eq19"
   ]
  },
  {
   "cell_type": "code",
   "execution_count": 9,
   "id": "448eedc2-d97e-494c-a1b5-fb0a9360c08f",
   "metadata": {},
   "outputs": [
    {
     "data": {
      "text/latex": [
       "$\\displaystyle x^{2} y - 36 y = 0$"
      ],
      "text/plain": [
       "Eq(x**2*y - 36*y, 0)"
      ]
     },
     "execution_count": 9,
     "metadata": {},
     "output_type": "execute_result"
    }
   ],
   "source": [
    "eq20=sp.Eq(x**2*y-36*y, 0)\n",
    "eq20"
   ]
  },
  {
   "cell_type": "code",
   "execution_count": 10,
   "id": "516da240-0a77-4e27-8177-d27981753674",
   "metadata": {},
   "outputs": [
    {
     "data": {
      "text/plain": [
       "[(-10, 0), (-6, -8), (-6, 8), (6, -8), (6, 8), (10, 0)]"
      ]
     },
     "execution_count": 10,
     "metadata": {},
     "output_type": "execute_result"
    }
   ],
   "source": [
    "sol10=solve([eq19,eq20],[x,y])\n",
    "sol10"
   ]
  },
  {
   "cell_type": "code",
   "execution_count": 12,
   "id": "78e4af19-69dd-49ee-a7d5-59e2c579b7f9",
   "metadata": {},
   "outputs": [
    {
     "data": {
      "text/latex": [
       "$\\displaystyle x y^{2} - 49 x = 0$"
      ],
      "text/plain": [
       "Eq(x*y**2 - 49*x, 0)"
      ]
     },
     "execution_count": 12,
     "metadata": {},
     "output_type": "execute_result"
    }
   ],
   "source": [
    "#Oppgave 17,2 a)\n",
    "eq21=sp.Eq(x*y**2-49*x, 0)\n",
    "eq21"
   ]
  },
  {
   "cell_type": "code",
   "execution_count": 13,
   "id": "30686e37-7801-4e22-9b8d-06bb6b402114",
   "metadata": {},
   "outputs": [
    {
     "data": {
      "text/latex": [
       "$\\displaystyle x^{2} + y^{2} = 58$"
      ],
      "text/plain": [
       "Eq(x**2 + y**2, 58)"
      ]
     },
     "execution_count": 13,
     "metadata": {},
     "output_type": "execute_result"
    }
   ],
   "source": [
    "eq22=sp.Eq(x**2+y**2, 58)\n",
    "eq22"
   ]
  },
  {
   "cell_type": "code",
   "execution_count": 14,
   "id": "4fa62a0f-f3cd-4412-90cb-8b7120805882",
   "metadata": {},
   "outputs": [
    {
     "data": {
      "text/plain": [
       "[(-3, -7), (-3, 7), (0, -sqrt(58)), (0, sqrt(58)), (3, -7), (3, 7)]"
      ]
     },
     "execution_count": 14,
     "metadata": {},
     "output_type": "execute_result"
    }
   ],
   "source": [
    "sol11=solve([eq21,eq22],[x,y])\n",
    "sol11"
   ]
  },
  {
   "cell_type": "code",
   "execution_count": 21,
   "id": "3cff93c1-8d7d-4adc-97f6-71ebc0993739",
   "metadata": {},
   "outputs": [
    {
     "data": {
      "text/latex": [
       "$\\displaystyle x^{2} + y^{2} = 1.25$"
      ],
      "text/plain": [
       "Eq(x**2 + y**2, 1.25)"
      ]
     },
     "execution_count": 21,
     "metadata": {},
     "output_type": "execute_result"
    }
   ],
   "source": [
    "#Oppgave 17,2 b)\n",
    "eq23=sp.Eq(x**2+y**2,5/4)\n",
    "eq23"
   ]
  },
  {
   "cell_type": "code",
   "execution_count": 25,
   "id": "46d3b155-967d-4b6a-91c4-bff06d25a69e",
   "metadata": {},
   "outputs": [
    {
     "data": {
      "text/latex": [
       "$\\displaystyle 2 x y + y = 0$"
      ],
      "text/plain": [
       "Eq(2*x*y + y, 0)"
      ]
     },
     "execution_count": 25,
     "metadata": {},
     "output_type": "execute_result"
    }
   ],
   "source": [
    "eq24=sp.Eq(2*x*y+y, 0)\n",
    "eq24"
   ]
  },
  {
   "cell_type": "code",
   "execution_count": 23,
   "id": "15642c7f-a417-49ca-9d5c-868d1c2eb856",
   "metadata": {},
   "outputs": [
    {
     "data": {
      "text/plain": [
       "[(-1.11803398874989, 0.0),\n",
       " (-0.500000000000000, -1.00000000000000),\n",
       " (-0.500000000000000, 1.00000000000000),\n",
       " (1.11803398874989, 0.0)]"
      ]
     },
     "execution_count": 23,
     "metadata": {},
     "output_type": "execute_result"
    }
   ],
   "source": [
    "sol12=solve([eq23,eq24],[x,y])\n",
    "sol12"
   ]
  },
  {
   "cell_type": "code",
   "execution_count": 36,
   "id": "fb0fe94e-d0e1-485c-8ebf-0da416647301",
   "metadata": {},
   "outputs": [
    {
     "data": {
      "text/latex": [
       "$\\displaystyle 5 x^{4}$"
      ],
      "text/plain": [
       "5*x**4"
      ]
     },
     "execution_count": 36,
     "metadata": {},
     "output_type": "execute_result"
    }
   ],
   "source": [
    "#Oppgave 19,1 a)\n",
    "\n",
    "x=sp.Symbol('x')\n",
    "f=sp.diff(x**5)\n",
    "f"
   ]
  },
  {
   "cell_type": "code",
   "execution_count": 37,
   "id": "3f26ae04-aa1e-47e0-9a56-0daab718c5f1",
   "metadata": {},
   "outputs": [
    {
     "data": {
      "text/latex": [
       "$\\displaystyle 1$"
      ],
      "text/plain": [
       "1"
      ]
     },
     "execution_count": 37,
     "metadata": {},
     "output_type": "execute_result"
    }
   ],
   "source": [
    "#1b)\n",
    "f=sp.diff(x + 12)\n",
    "f"
   ]
  },
  {
   "cell_type": "code",
   "execution_count": 38,
   "id": "dfcae026-6fee-4e67-b60c-bfe8dbe48469",
   "metadata": {},
   "outputs": [
    {
     "data": {
      "text/latex": [
       "$\\displaystyle 3 x^{2}$"
      ],
      "text/plain": [
       "3*x**2"
      ]
     },
     "execution_count": 38,
     "metadata": {},
     "output_type": "execute_result"
    }
   ],
   "source": [
    "#1c)\n",
    "f=sp.diff(x**3+4**2)\n",
    "f"
   ]
  },
  {
   "cell_type": "code",
   "execution_count": 39,
   "id": "22ae9f9f-0aed-42a2-bbc7-0dcc00611064",
   "metadata": {},
   "outputs": [
    {
     "data": {
      "text/latex": [
       "$\\displaystyle 6 x^{2}$"
      ],
      "text/plain": [
       "6*x**2"
      ]
     },
     "execution_count": 39,
     "metadata": {},
     "output_type": "execute_result"
    }
   ],
   "source": [
    "#1d)\n",
    "f=sp.diff(2*x**3+1/2*36)\n",
    "f"
   ]
  },
  {
   "cell_type": "code",
   "execution_count": 40,
   "id": "41394cd6-b3ff-4a62-be33-ca5a4015f416",
   "metadata": {},
   "outputs": [
    {
     "data": {
      "text/latex": [
       "$\\displaystyle 0.5$"
      ],
      "text/plain": [
       "0.500000000000000"
      ]
     },
     "execution_count": 40,
     "metadata": {},
     "output_type": "execute_result"
    }
   ],
   "source": [
    "#1e)\n",
    "f=sp.diff(1/2*x+5**2)\n",
    "f"
   ]
  },
  {
   "cell_type": "code",
   "execution_count": 41,
   "id": "689fee41-b1b9-405b-9ce9-df17da628017",
   "metadata": {},
   "outputs": [
    {
     "data": {
      "text/latex": [
       "$\\displaystyle 3 x^{2} - \\frac{1}{x^{2}}$"
      ],
      "text/plain": [
       "3*x**2 - 1/x**2"
      ]
     },
     "execution_count": 41,
     "metadata": {},
     "output_type": "execute_result"
    }
   ],
   "source": [
    "#1f)\n",
    "f=sp.diff(x**3+1/x)\n",
    "f"
   ]
  },
  {
   "cell_type": "code",
   "execution_count": 42,
   "id": "acf73e96-f20e-4417-acc6-90b1292b69cd",
   "metadata": {},
   "outputs": [
    {
     "data": {
      "text/latex": [
       "$\\displaystyle 3 x^{2} - 2 x + 0.25$"
      ],
      "text/plain": [
       "3*x**2 - 2*x + 0.25"
      ]
     },
     "execution_count": 42,
     "metadata": {},
     "output_type": "execute_result"
    }
   ],
   "source": [
    "#1g)\n",
    "f=sp.diff(x**3-x**2+1/4*x)\n",
    "f"
   ]
  },
  {
   "cell_type": "code",
   "execution_count": 46,
   "id": "7a17902a-64a7-4598-abbd-7b81d30fb1d1",
   "metadata": {},
   "outputs": [
    {
     "data": {
      "text/latex": [
       "$\\displaystyle 30 x^{5} - \\frac{1}{x^{2}}$"
      ],
      "text/plain": [
       "30*x**5 - 1/x**2"
      ]
     },
     "execution_count": 46,
     "metadata": {},
     "output_type": "execute_result"
    }
   ],
   "source": [
    "#Oppgave 2a)\n",
    "f=sp.diff(1/x+5*x**6)\n",
    "f"
   ]
  },
  {
   "cell_type": "code",
   "execution_count": 47,
   "id": "382247a2-12fa-4041-a2ab-36732e82b243",
   "metadata": {},
   "outputs": [
    {
     "data": {
      "text/latex": [
       "$\\displaystyle 1.5 x^{2} - 1$"
      ],
      "text/plain": [
       "1.5*x**2 - 1"
      ]
     },
     "execution_count": 47,
     "metadata": {},
     "output_type": "execute_result"
    }
   ],
   "source": [
    "#2b)\n",
    "f=sp.diff(-x+1/2*x**3)\n",
    "f"
   ]
  },
  {
   "cell_type": "code",
   "execution_count": 48,
   "id": "a35d2c31-57ff-47a6-99cd-c841717d37b7",
   "metadata": {},
   "outputs": [
    {
     "data": {
      "text/latex": [
       "$\\displaystyle x^{2} + x \\left(2 x + 2\\right) + 2 x - 3$"
      ],
      "text/plain": [
       "x**2 + x*(2*x + 2) + 2*x - 3"
      ]
     },
     "execution_count": 48,
     "metadata": {},
     "output_type": "execute_result"
    }
   ],
   "source": [
    "#2c)\n",
    "f=sp.diff(x*(x**2+2*x-3))\n",
    "f"
   ]
  },
  {
   "cell_type": "code",
   "execution_count": 49,
   "id": "d29f2fd6-2dc3-4263-b586-37b33bca6a0a",
   "metadata": {},
   "outputs": [
    {
     "data": {
      "text/latex": [
       "$\\displaystyle 9 x^{8}$"
      ],
      "text/plain": [
       "9*x**8"
      ]
     },
     "execution_count": 49,
     "metadata": {},
     "output_type": "execute_result"
    }
   ],
   "source": [
    "#Oppgave 20, 1e)\n",
    "f=sp.diff(x**4*x**5)\n",
    "f"
   ]
  },
  {
   "cell_type": "code",
   "execution_count": 50,
   "id": "191dbb6b-b7f9-42e2-9ce8-461219dc4b22",
   "metadata": {},
   "outputs": [
    {
     "data": {
      "text/latex": [
       "$\\displaystyle x$"
      ],
      "text/plain": [
       "x"
      ]
     },
     "execution_count": 50,
     "metadata": {},
     "output_type": "execute_result"
    }
   ],
   "source": [
    "#1f)\n",
    "f=sp.diff(x*1/2*x)\n",
    "f"
   ]
  },
  {
   "cell_type": "code",
   "execution_count": 51,
   "id": "0bf8c844-ccc6-4efe-a30d-d8fb22a1cab0",
   "metadata": {},
   "outputs": [
    {
     "data": {
      "text/latex": [
       "$\\displaystyle - \\frac{6}{x^{4}}$"
      ],
      "text/plain": [
       "-6/x**4"
      ]
     },
     "execution_count": 51,
     "metadata": {},
     "output_type": "execute_result"
    }
   ],
   "source": [
    "#1g)\n",
    "f=sp.diff(2/x**3)\n",
    "f"
   ]
  },
  {
   "cell_type": "code",
   "execution_count": 52,
   "id": "9ea535f5-00f4-4350-9220-8008d2f8ed0e",
   "metadata": {},
   "outputs": [
    {
     "data": {
      "text/latex": [
       "$\\displaystyle 2 x + \\frac{6}{x^{4}}$"
      ],
      "text/plain": [
       "2*x + 6/x**4"
      ]
     },
     "execution_count": 52,
     "metadata": {},
     "output_type": "execute_result"
    }
   ],
   "source": [
    "#1h)\n",
    "f=sp.diff(x**2-2/x**3)\n",
    "f"
   ]
  },
  {
   "cell_type": "code",
   "execution_count": 53,
   "id": "993d53f1-1adc-4a40-b1e2-5a47204bb144",
   "metadata": {},
   "outputs": [
    {
     "data": {
      "text/latex": [
       "$\\displaystyle 3.0 x^{5}$"
      ],
      "text/plain": [
       "3.0*x**5"
      ]
     },
     "execution_count": 53,
     "metadata": {},
     "output_type": "execute_result"
    }
   ],
   "source": [
    "#1i)\n",
    "f=sp.diff(1/2*x**6)\n",
    "f"
   ]
  },
  {
   "cell_type": "code",
   "execution_count": 54,
   "id": "42060afb-b56f-4dee-be76-4f7559e499f8",
   "metadata": {},
   "outputs": [
    {
     "data": {
      "text/latex": [
       "$\\displaystyle 3 x^{2} + 1$"
      ],
      "text/plain": [
       "3*x**2 + 1"
      ]
     },
     "execution_count": 54,
     "metadata": {},
     "output_type": "execute_result"
    }
   ],
   "source": [
    "#1j)\n",
    "f=sp.diff(x*(x**2+1))\n",
    "f"
   ]
  },
  {
   "cell_type": "code",
   "execution_count": 55,
   "id": "92b8910b-8349-441b-b056-468e8225a30a",
   "metadata": {},
   "outputs": [
    {
     "data": {
      "text/latex": [
       "$\\displaystyle 2 x - \\frac{12}{x^{4}}$"
      ],
      "text/plain": [
       "2*x - 12/x**4"
      ]
     },
     "execution_count": 55,
     "metadata": {},
     "output_type": "execute_result"
    }
   ],
   "source": [
    "#1k)\n",
    "f=sp.diff(x**2+4/x**3-1)\n",
    "f"
   ]
  },
  {
   "cell_type": "code",
   "execution_count": 60,
   "id": "d6bb2ddc-f4e1-4409-98df-6fb2a3fa8b16",
   "metadata": {},
   "outputs": [
    {
     "data": {
      "text/latex": [
       "$\\displaystyle 2$"
      ],
      "text/plain": [
       "2"
      ]
     },
     "execution_count": 60,
     "metadata": {},
     "output_type": "execute_result"
    }
   ],
   "source": [
    "#1l)\n",
    "f=sp.diff(x**2/x**2+2*x)\n",
    "f"
   ]
  },
  {
   "cell_type": "code",
   "execution_count": 61,
   "id": "26c7005b-a696-4c25-b8b2-4ee5758f8476",
   "metadata": {},
   "outputs": [
    {
     "data": {
      "text/latex": [
       "$\\displaystyle 2 x + 4 - \\frac{2}{x^{2}}$"
      ],
      "text/plain": [
       "2*x + 4 - 2/x**2"
      ]
     },
     "execution_count": 61,
     "metadata": {},
     "output_type": "execute_result"
    }
   ],
   "source": [
    "#1m)\n",
    "f=sp.diff(x**2+4*x+2/x-2)\n",
    "f"
   ]
  },
  {
   "cell_type": "code",
   "execution_count": 62,
   "id": "d734ae2d-0c88-4f95-808b-141ec6bcde1d",
   "metadata": {},
   "outputs": [
    {
     "data": {
      "text/latex": [
       "$\\displaystyle 3 x^{2} + \\frac{2}{x^{2}}$"
      ],
      "text/plain": [
       "3*x**2 + 2/x**2"
      ]
     },
     "execution_count": 62,
     "metadata": {},
     "output_type": "execute_result"
    }
   ],
   "source": [
    "#Oppgave 20, 2a)\n",
    "f=sp.diff(x**3-2*x/x**2-1)\n",
    "f"
   ]
  },
  {
   "cell_type": "code",
   "execution_count": 65,
   "id": "93ee37f2-a488-481e-b6f8-256ae7866e78",
   "metadata": {},
   "outputs": [
    {
     "data": {
      "text/latex": [
       "$\\displaystyle 2 x \\left(x^{2} - 1\\right)$"
      ],
      "text/plain": [
       "2*x*(x**2 - 1)"
      ]
     },
     "execution_count": 65,
     "metadata": {},
     "output_type": "execute_result"
    }
   ],
   "source": [
    "#2b)\n",
    "f=sp.diff(x**2+1)*(x**2-1)\n",
    "f"
   ]
  },
  {
   "cell_type": "code",
   "execution_count": 66,
   "id": "4b7cfeb6-226b-4409-8841-14c51fe8f028",
   "metadata": {},
   "outputs": [
    {
     "data": {
      "text/latex": [
       "$\\displaystyle 3 + \\frac{12}{x^{4}}$"
      ],
      "text/plain": [
       "3 + 12/x**4"
      ]
     },
     "execution_count": 66,
     "metadata": {},
     "output_type": "execute_result"
    }
   ],
   "source": [
    "#2c)\n",
    "f=sp.diff(3*x-4/x**3+7)\n",
    "f"
   ]
  },
  {
   "cell_type": "code",
   "execution_count": 67,
   "id": "363565b2-7315-4f96-9de3-99baeda4a39a",
   "metadata": {},
   "outputs": [
    {
     "data": {
      "text/latex": [
       "$\\displaystyle \\left(15 x^{2} + 30\\right) \\left(x^{3} + 6 x\\right)^{4}$"
      ],
      "text/plain": [
       "(15*x**2 + 30)*(x**3 + 6*x)**4"
      ]
     },
     "execution_count": 67,
     "metadata": {},
     "output_type": "execute_result"
    }
   ],
   "source": [
    "#Oppgave 21, 1a)\n",
    "f=sp.diff((x**3+6*x)**5)\n",
    "f"
   ]
  },
  {
   "cell_type": "code",
   "execution_count": 68,
   "id": "9c1ccfc6-9ba5-413b-8a3d-ea85175eb3d0",
   "metadata": {},
   "outputs": [
    {
     "data": {
      "text/latex": [
       "$\\displaystyle 2.0 x$"
      ],
      "text/plain": [
       "2.0*x"
      ]
     },
     "execution_count": 68,
     "metadata": {},
     "output_type": "execute_result"
    }
   ],
   "source": [
    "#1b)\n",
    "f=sp.diff(1/2*2*x**2+5)\n",
    "f"
   ]
  },
  {
   "cell_type": "code",
   "execution_count": 69,
   "id": "b9767211-47cd-4c43-ad86-b8f952878ff6",
   "metadata": {},
   "outputs": [
    {
     "data": {
      "text/latex": [
       "$\\displaystyle - \\frac{8 \\left(3 + \\frac{2}{x}\\right)^{3}}{x^{2}}$"
      ],
      "text/plain": [
       "-8*(3 + 2/x)**3/x**2"
      ]
     },
     "execution_count": 69,
     "metadata": {},
     "output_type": "execute_result"
    }
   ],
   "source": [
    "#1c)\n",
    "f=sp.diff((2*x/x**2+3)**4)\n",
    "f"
   ]
  },
  {
   "cell_type": "code",
   "execution_count": 70,
   "id": "ab72a273-5f63-4b8f-8385-b1c4f6155be4",
   "metadata": {},
   "outputs": [
    {
     "data": {
      "text/latex": [
       "$\\displaystyle 12 x^{3} \\left(2 x^{4} + 9\\right)^{2}$"
      ],
      "text/plain": [
       "12*x**3*(2*x**4 + 9)**2"
      ]
     },
     "execution_count": 70,
     "metadata": {},
     "output_type": "execute_result"
    }
   ],
   "source": [
    "#1d)\n",
    "f=sp.diff((2*x**4+9)**3/2)\n",
    "f"
   ]
  },
  {
   "cell_type": "code",
   "execution_count": 71,
   "id": "68a1edce-cd14-4d98-aefb-a925aa25ad83",
   "metadata": {},
   "outputs": [
    {
     "data": {
      "text/latex": [
       "$\\displaystyle 2 x$"
      ],
      "text/plain": [
       "2*x"
      ]
     },
     "execution_count": 71,
     "metadata": {},
     "output_type": "execute_result"
    }
   ],
   "source": [
    "#1e)\n",
    "f=sp.diff(1/1/2*1+x**2)\n",
    "f"
   ]
  },
  {
   "cell_type": "code",
   "execution_count": 73,
   "id": "2c533137-b5af-45ce-a06a-df3d84958739",
   "metadata": {},
   "outputs": [
    {
     "data": {
      "text/latex": [
       "$\\displaystyle x^{2} \\left(6 x + 6\\right) \\left(x^{2} + 2 x\\right)^{2} + 2 x \\left(x^{2} + 2 x\\right)^{3}$"
      ],
      "text/plain": [
       "x**2*(6*x + 6)*(x**2 + 2*x)**2 + 2*x*(x**2 + 2*x)**3"
      ]
     },
     "execution_count": 73,
     "metadata": {},
     "output_type": "execute_result"
    }
   ],
   "source": [
    "#1f)\n",
    "f=sp.diff(x**2*(x**2+2*x)**3)\n",
    "f"
   ]
  },
  {
   "cell_type": "code",
   "execution_count": 74,
   "id": "ef93d855-78c1-4c78-b858-f4b158704e09",
   "metadata": {},
   "outputs": [
    {
     "data": {
      "text/latex": [
       "$\\displaystyle 2 x^{3} - 2$"
      ],
      "text/plain": [
       "2*x**3 - 2"
      ]
     },
     "execution_count": 74,
     "metadata": {},
     "output_type": "execute_result"
    }
   ],
   "source": [
    "#1g)\n",
    "f=sp.diff(x**2*1/2*x**2-2*x)\n",
    "f"
   ]
  },
  {
   "cell_type": "code",
   "execution_count": 75,
   "id": "7b8adcea-9b97-4263-b3e8-df3c8f62f2bf",
   "metadata": {},
   "outputs": [
    {
     "data": {
      "text/latex": [
       "$\\displaystyle \\frac{x^{2} \\left(- 6 x - 3\\right)}{\\left(x^{2} + x\\right)^{4}} + \\frac{2 x}{\\left(x^{2} + x\\right)^{3}}$"
      ],
      "text/plain": [
       "x**2*(-6*x - 3)/(x**2 + x)**4 + 2*x/(x**2 + x)**3"
      ]
     },
     "execution_count": 75,
     "metadata": {},
     "output_type": "execute_result"
    }
   ],
   "source": [
    "#1h)\n",
    "f=sp.diff(x**2/(x**2+x)**3)\n",
    "f"
   ]
  },
  {
   "cell_type": "code",
   "execution_count": 76,
   "id": "1a3312da-eff0-44dd-8f70-e1cd023f9388",
   "metadata": {},
   "outputs": [
    {
     "data": {
      "text/latex": [
       "$\\displaystyle 9 x^{2} \\left(x^{2} + 1\\right)^{2} \\left(x^{3} + 1\\right)^{2} + 4 x \\left(x^{2} + 1\\right) \\left(x^{3} + 1\\right)^{3}$"
      ],
      "text/plain": [
       "9*x**2*(x**2 + 1)**2*(x**3 + 1)**2 + 4*x*(x**2 + 1)*(x**3 + 1)**3"
      ]
     },
     "execution_count": 76,
     "metadata": {},
     "output_type": "execute_result"
    }
   ],
   "source": [
    "#1i)\n",
    "f=sp.diff((x**2+1)**2*(x**3+1)**3)\n",
    "f"
   ]
  },
  {
   "cell_type": "code",
   "execution_count": 77,
   "id": "44e22af1-b9e7-4b25-8fd9-8ae864cfebfa",
   "metadata": {},
   "outputs": [
    {
     "data": {
      "text/latex": [
       "$\\displaystyle 0.5 \\left(24 x + 8\\right) \\left(3 x^{2} + 2 x\\right)^{3}$"
      ],
      "text/plain": [
       "0.5*(24*x + 8)*(3*x**2 + 2*x)**3"
      ]
     },
     "execution_count": 77,
     "metadata": {},
     "output_type": "execute_result"
    }
   ],
   "source": [
    "#Oppgave 2a)\n",
    "f=sp.diff(1/2*(3*x**2 +2*x)**4)\n",
    "f"
   ]
  },
  {
   "cell_type": "code",
   "execution_count": 79,
   "id": "01a98251-dab4-4a48-bbe3-5f44c63b3276",
   "metadata": {},
   "outputs": [
    {
     "data": {
      "text/latex": [
       "$\\displaystyle 15 x^{2} \\left(x^{2} + 3\\right)^{4} \\left(x^{3} + 3\\right)^{4} + 8 x \\left(x^{2} + 3\\right)^{3} \\left(x^{3} + 3\\right)^{5}$"
      ],
      "text/plain": [
       "15*x**2*(x**2 + 3)**4*(x**3 + 3)**4 + 8*x*(x**2 + 3)**3*(x**3 + 3)**5"
      ]
     },
     "execution_count": 79,
     "metadata": {},
     "output_type": "execute_result"
    }
   ],
   "source": [
    "#2b)\n",
    "f=sp.diff((x**3+3)**5*(x**2+3)**4)\n",
    "f"
   ]
  },
  {
   "cell_type": "code",
   "execution_count": 81,
   "id": "d27d1a6d-5c37-4502-b531-5e8e0316ed74",
   "metadata": {},
   "outputs": [
    {
     "data": {
      "text/latex": [
       "$\\displaystyle 1.0 x^{3} + 2 x \\left(0.5 x^{2} + 1\\right)$"
      ],
      "text/plain": [
       "1.0*x**3 + 2*x*(0.5*x**2 + 1)"
      ]
     },
     "execution_count": 81,
     "metadata": {},
     "output_type": "execute_result"
    }
   ],
   "source": [
    "#2c)\n",
    "f=sp.diff((1/2*x**2+1)*x**2)\n",
    "f"
   ]
  },
  {
   "cell_type": "code",
   "execution_count": 83,
   "id": "09758089-26c9-4e18-9326-b4f17063abdc",
   "metadata": {},
   "outputs": [
    {
     "data": {
      "text/latex": [
       "$\\displaystyle \\frac{\\left(18 x + 6\\right) \\left(3 x^{2} + 2 x\\right)^{2}}{x^{2}} - \\frac{2 \\left(3 x^{2} + 2 x\\right)^{3}}{x^{3}}$"
      ],
      "text/plain": [
       "(18*x + 6)*(3*x**2 + 2*x)**2/x**2 - 2*(3*x**2 + 2*x)**3/x**3"
      ]
     },
     "execution_count": 83,
     "metadata": {},
     "output_type": "execute_result"
    }
   ],
   "source": [
    "#2d)\n",
    "f=sp.diff(((2*x+3*x**2)**3)/x**2)\n",
    "f"
   ]
  },
  {
   "cell_type": "code",
   "execution_count": 84,
   "id": "1d3985cd-6b36-43ed-9462-628b6288264d",
   "metadata": {},
   "outputs": [
    {
     "data": {
      "text/latex": [
       "$\\displaystyle 1.33333333333333$"
      ],
      "text/plain": [
       "1.33333333333333"
      ]
     },
     "execution_count": 84,
     "metadata": {},
     "output_type": "execute_result"
    }
   ],
   "source": [
    "#2e)\n",
    "f=sp.diff(1/3*(x*4-5))\n",
    "f"
   ]
  },
  {
   "cell_type": "code",
   "execution_count": 85,
   "id": "d4bbe75e-8e14-4c9d-8ee0-e2e2fec58903",
   "metadata": {},
   "outputs": [
    {
     "data": {
      "text/latex": [
       "$\\displaystyle \\frac{7 x^{6}}{2}$"
      ],
      "text/plain": [
       "7*x**6/2"
      ]
     },
     "execution_count": 85,
     "metadata": {},
     "output_type": "execute_result"
    }
   ],
   "source": [
    "#2f)\n",
    "f=sp.diff(x**3/1/2*x**4-1)\n",
    "f"
   ]
  },
  {
   "cell_type": "code",
   "execution_count": 87,
   "id": "fa723a81-f3aa-4238-811f-1e6a92ed8151",
   "metadata": {},
   "outputs": [
    {
     "data": {
      "text/latex": [
       "$\\displaystyle \\frac{1}{x}$"
      ],
      "text/plain": [
       "1/x"
      ]
     },
     "execution_count": 87,
     "metadata": {},
     "output_type": "execute_result"
    }
   ],
   "source": [
    "#Oppgave 22, 1a)\n",
    "f=(sp.log(5*x))\n",
    "derivate_f=sp.diff(f)\n",
    "derivate_f"
   ]
  },
  {
   "cell_type": "code",
   "execution_count": 88,
   "id": "302177ff-9fde-4648-9f57-e0de75180242",
   "metadata": {},
   "outputs": [
    {
     "data": {
      "text/latex": [
       "$\\displaystyle - 2 e^{- 2 x}$"
      ],
      "text/plain": [
       "-2*exp(-2*x)"
      ]
     },
     "execution_count": 88,
     "metadata": {},
     "output_type": "execute_result"
    }
   ],
   "source": [
    "#1b)\n",
    "f=sp.exp(-2*x)\n",
    "derivate_f=f.diff(x)\n",
    "derivate_f"
   ]
  },
  {
   "cell_type": "code",
   "execution_count": 89,
   "id": "8993da79-648b-4a1a-8fbb-0bbbe538c3d0",
   "metadata": {},
   "outputs": [
    {
     "data": {
      "text/latex": [
       "$\\displaystyle \\frac{1}{x}$"
      ],
      "text/plain": [
       "1/x"
      ]
     },
     "execution_count": 89,
     "metadata": {},
     "output_type": "execute_result"
    }
   ],
   "source": [
    "#1c)\n",
    "f=(sp.log(12*x)-3)\n",
    "derivate_f=f.diff(x)\n",
    "derivate_f"
   ]
  },
  {
   "cell_type": "code",
   "execution_count": 90,
   "id": "a73c3c2b-a0db-4e16-950d-d0120f7851a7",
   "metadata": {},
   "outputs": [
    {
     "data": {
      "text/latex": [
       "$\\displaystyle 2^{x} \\log{\\left(2 \\right)}$"
      ],
      "text/plain": [
       "2**x*log(2)"
      ]
     },
     "execution_count": 90,
     "metadata": {},
     "output_type": "execute_result"
    }
   ],
   "source": [
    "#1d)\n",
    "f=sp.diff(2**x)\n",
    "f"
   ]
  },
  {
   "cell_type": "code",
   "execution_count": 91,
   "id": "8ca24234-695d-4991-8d72-71f59109ed5b",
   "metadata": {},
   "outputs": [
    {
     "data": {
      "text/latex": [
       "$\\displaystyle 3 e^{3 x + 5}$"
      ],
      "text/plain": [
       "3*exp(3*x + 5)"
      ]
     },
     "execution_count": 91,
     "metadata": {},
     "output_type": "execute_result"
    }
   ],
   "source": [
    "#1e)\n",
    "f=sp.exp(3*x+5)\n",
    "derivate_f=f.diff(x)\n",
    "derivate_f"
   ]
  },
  {
   "cell_type": "code",
   "execution_count": 92,
   "id": "cadc5b7b-0f85-4024-a3f8-0358d37b0058",
   "metadata": {},
   "outputs": [
    {
     "data": {
      "text/latex": [
       "$\\displaystyle \\frac{5 x^{4}}{x^{5} + 1}$"
      ],
      "text/plain": [
       "5*x**4/(x**5 + 1)"
      ]
     },
     "execution_count": 92,
     "metadata": {},
     "output_type": "execute_result"
    }
   ],
   "source": [
    "#1f)\n",
    "f=sp.log(x**5+1)\n",
    "s=f.diff(x)\n",
    "s"
   ]
  },
  {
   "cell_type": "code",
   "execution_count": 93,
   "id": "54e84525-cd0a-4de8-ad0d-18e8f786d568",
   "metadata": {},
   "outputs": [
    {
     "data": {
      "text/latex": [
       "$\\displaystyle \\left(8 x + 8\\right) e^{4 x^{2} + 8 x}$"
      ],
      "text/plain": [
       "(8*x + 8)*exp(4*x**2 + 8*x)"
      ]
     },
     "execution_count": 93,
     "metadata": {},
     "output_type": "execute_result"
    }
   ],
   "source": [
    "#1g)\n",
    "f=sp.exp(4*x**2+8*x)\n",
    "s=f.diff(x)\n",
    "s"
   ]
  },
  {
   "cell_type": "code",
   "execution_count": 95,
   "id": "82bf8ba0-6cb9-40b0-8fa0-b19f0c9004df",
   "metadata": {},
   "outputs": [
    {
     "data": {
      "text/latex": [
       "$\\displaystyle - \\frac{1}{x}$"
      ],
      "text/plain": [
       "-1/x"
      ]
     },
     "execution_count": 95,
     "metadata": {},
     "output_type": "execute_result"
    }
   ],
   "source": [
    "#1h)\n",
    "f=sp.log(1/x)\n",
    "s=f.diff(x)\n",
    "s"
   ]
  },
  {
   "cell_type": "code",
   "execution_count": 97,
   "id": "3082b9a5-fde5-42fe-bb2f-ed4907406744",
   "metadata": {},
   "outputs": [
    {
     "data": {
      "text/latex": [
       "$\\displaystyle \\log{\\left(6 \\right)} + 81$"
      ],
      "text/plain": [
       "log(6) + 81"
      ]
     },
     "execution_count": 97,
     "metadata": {},
     "output_type": "execute_result"
    }
   ],
   "source": [
    "#1i) Fikk ikke heeeeeelt til.\n",
    "f=sp.log(6)*(x)+3**4*x\n",
    "s=f.diff(x)\n",
    "s"
   ]
  },
  {
   "cell_type": "code",
   "execution_count": 100,
   "id": "4af15aef-84b4-42ef-9fe0-a3f050a9c58d",
   "metadata": {},
   "outputs": [
    {
     "data": {
      "text/latex": [
       "$\\displaystyle - x e^{- x} + e^{- x}$"
      ],
      "text/plain": [
       "-x*exp(-x) + exp(-x)"
      ]
     },
     "execution_count": 100,
     "metadata": {},
     "output_type": "execute_result"
    }
   ],
   "source": [
    "#1j)\n",
    "f=x*sp.exp(-x)\n",
    "b=f.diff(x)\n",
    "b"
   ]
  },
  {
   "cell_type": "code",
   "execution_count": 101,
   "id": "e0f7d900-840a-4ceb-a927-aa753bd1cce7",
   "metadata": {},
   "outputs": [
    {
     "data": {
      "text/latex": [
       "$\\displaystyle \\frac{2 x^{3}}{x^{2} + 2} + 2 x \\log{\\left(x^{2} + 2 \\right)}$"
      ],
      "text/plain": [
       "2*x**3/(x**2 + 2) + 2*x*log(x**2 + 2)"
      ]
     },
     "execution_count": 101,
     "metadata": {},
     "output_type": "execute_result"
    }
   ],
   "source": [
    "#1k)\n",
    "f= sp.log(x**2+2)*x**2\n",
    "b=f.diff(x)\n",
    "b"
   ]
  },
  {
   "cell_type": "code",
   "execution_count": 106,
   "id": "cbd10e8f-795c-4f80-8c48-2fb402294966",
   "metadata": {},
   "outputs": [
    {
     "data": {
      "text/latex": [
       "$\\displaystyle 2 x^{3} e^{2 x} + 3 x^{2} e^{2 x}$"
      ],
      "text/plain": [
       "2*x**3*exp(2*x) + 3*x**2*exp(2*x)"
      ]
     },
     "execution_count": 106,
     "metadata": {},
     "output_type": "execute_result"
    }
   ],
   "source": [
    "#Oppgave 22, 2a)\n",
    "from sympy import *\n",
    "x=sp.Symbol('x')\n",
    "y=(x**3)*(sp.exp(2*x))\n",
    "deriv=sp.Derivative(y,x)\n",
    "deriv.doit()"
   ]
  },
  {
   "cell_type": "code",
   "execution_count": 107,
   "id": "7ef9199e-c88c-4a94-b508-060d4f765933",
   "metadata": {},
   "outputs": [
    {
     "data": {
      "text/latex": [
       "$\\displaystyle \\frac{2 x + \\frac{2}{x^{3}}}{x^{2} - 1 - \\frac{1}{x^{2}}}$"
      ],
      "text/plain": [
       "(2*x + 2/x**3)/(x**2 - 1 - 1/x**2)"
      ]
     },
     "execution_count": 107,
     "metadata": {},
     "output_type": "execute_result"
    }
   ],
   "source": [
    "#2b)\n",
    "x=sp.Symbol('x')\n",
    "y=sp.log(x**2-1/x**2-1)\n",
    "deriv = sp.Derivative(y,x)\n",
    "deriv.doit()"
   ]
  },
  {
   "cell_type": "code",
   "execution_count": 109,
   "id": "25eac3c9-097c-4c9a-8dd3-8a5f4bec6475",
   "metadata": {},
   "outputs": [
    {
     "data": {
      "text/latex": [
       "$\\displaystyle \\frac{2 x^{3}}{x^{2} + 2} + 2 x \\log{\\left(x^{2} + 2 \\right)}$"
      ],
      "text/plain": [
       "2*x**3/(x**2 + 2) + 2*x*log(x**2 + 2)"
      ]
     },
     "execution_count": 109,
     "metadata": {},
     "output_type": "execute_result"
    }
   ],
   "source": [
    "#2c)\n",
    "x=sp.Symbol('x')\n",
    "y=(x**2)*sp.log(x**2+2)\n",
    "deriv = sp.Derivative(y,x)\n",
    "deriv.doit()"
   ]
  },
  {
   "cell_type": "code",
   "execution_count": 125,
   "id": "e188a515-1a8c-4e3f-8329-9851bee5dc86",
   "metadata": {},
   "outputs": [
    {
     "data": {
      "text/latex": [
       "$\\displaystyle - \\frac{2 x e^{\\frac{1}{x^{2} + 1}}}{\\left(x^{2} + 1\\right)^{2}}$"
      ],
      "text/plain": [
       "-2*x*exp(1/(x**2 + 1))/(x**2 + 1)**2"
      ]
     },
     "execution_count": 125,
     "metadata": {},
     "output_type": "execute_result"
    }
   ],
   "source": [
    "#2d)\n",
    "y=sp.exp(1**(-x)/(x**2+1))\n",
    "deriv = sp.Derivative(y,x)\n",
    "deriv.doit()\n"
   ]
  },
  {
   "cell_type": "code",
   "execution_count": null,
   "id": "d7cb8fd2-32aa-477f-84b3-568531a20781",
   "metadata": {},
   "outputs": [],
   "source": []
  }
 ],
 "metadata": {
  "kernelspec": {
   "display_name": "Python 3 (ipykernel)",
   "language": "python",
   "name": "python3"
  },
  "language_info": {
   "codemirror_mode": {
    "name": "ipython",
    "version": 3
   },
   "file_extension": ".py",
   "mimetype": "text/x-python",
   "name": "python",
   "nbconvert_exporter": "python",
   "pygments_lexer": "ipython3",
   "version": "3.9.5"
  }
 },
 "nbformat": 4,
 "nbformat_minor": 5
}
